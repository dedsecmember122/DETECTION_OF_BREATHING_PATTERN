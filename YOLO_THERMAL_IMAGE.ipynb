{
 "cells": [
  {
   "cell_type": "code",
   "execution_count": null,
   "id": "f81f1e60-0c25-43a0-acbf-decc72416108",
   "metadata": {},
   "outputs": [],
   "source": [
    "\n",
    "from ultralytics import YOLO\n",
    "\n",
    "\n",
    "model = YOLO(\"yolo11l.pt\")  \n",
    "\n",
    "\n",
    "model.train(data=r\"C:\\Users\\HP\\Desktop\\Machine learning\\YOLO_DATASET_THERMAL\\data.yaml\", epochs=30, imgsz=84, batch=8)"
   ]
  },
  {
   "cell_type": "code",
   "execution_count": null,
   "id": "4d1f4f9c-44b1-4536-8080-a4487840e9b7",
   "metadata": {},
   "outputs": [],
   "source": [
    "import cv2\n",
    "from ultralytics import YOLO\n",
    "\n",
    "# Load the trained YOLO model\n",
    "model = YOLO(r\"C:\\Users\\HP\\Desktop\\Machine learning\\runs\\detect\\train2\\weights\\best.pt\")\n",
    "\n",
    "# Open webcam\n",
    "cap = cv2.VideoCapture(0)\n",
    "\n",
    "while cap.isOpened():\n",
    "    ret, frame = cap.read()\n",
    "    if not ret:\n",
    "        break\n",
    "    \n",
    "    # Get model predictions\n",
    "    results = model(frame)\n",
    "    \n",
    "    for r in results:\n",
    "        for box in r.boxes:\n",
    "            x1, y1, x2, y2 = map(int, box.xyxy[0])  # Bounding box coordinates\n",
    "            conf = box.conf[0]  # Confidence score\n",
    "            cls = int(box.cls[0])  # Class label\n",
    "            \n",
    "            if cls == 1:  # Class 1: Nose Exhaling\n",
    "                label = f\"Exhaling ({conf:.2f})\"\n",
    "                color = (0, 0, 255)  # Red\n",
    "                \n",
    "            elif cls == 2:  # Class 2: Nose Inhaling\n",
    "                label = f\"Inhaling ({conf:.2f})\"\n",
    "                color = (0, 255, 0)  # Green\n",
    "                \n",
    "            else:  # Class 0: None\n",
    "                label = f\"None ({conf:.2f})\"\n",
    "                color = (255, 255, 255)  # White\n",
    "                \n",
    "            # Draw bounding box around the nose\n",
    "            cv2.rectangle(frame, (x1, y1), (x2, y2), color, 2)\n",
    "            cv2.putText(frame, label, (x1, y1 - 10), cv2.FONT_HERSHEY_SIMPLEX, 0.6, color, 2)\n",
    "    \n",
    "    # Display the output\n",
    "    cv2.imshow(\"Thermal Nose Detection\", frame)\n",
    "    \n",
    "    # Break loop on 'q' key press\n",
    "    if cv2.waitKey(1) & 0xFF == ord('q'):\n",
    "        break\n",
    "\n",
    "# Release resources\n",
    "cap.release()\n",
    "cv2.destroyAllWindows()\n"
   ]
  },
  {
   "cell_type": "code",
   "execution_count": null,
   "id": "5c3fcaad-7ffb-4f24-b66a-71abaf8be67a",
   "metadata": {},
   "outputs": [],
   "source": []
  }
 ],
 "metadata": {
  "kernelspec": {
   "display_name": "Python 3 (ipykernel)",
   "language": "python",
   "name": "python3"
  },
  "language_info": {
   "codemirror_mode": {
    "name": "ipython",
    "version": 3
   },
   "file_extension": ".py",
   "mimetype": "text/x-python",
   "name": "python",
   "nbconvert_exporter": "python",
   "pygments_lexer": "ipython3",
   "version": "3.11.7"
  }
 },
 "nbformat": 4,
 "nbformat_minor": 5
}
